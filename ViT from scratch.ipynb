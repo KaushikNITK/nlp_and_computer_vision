{
 "cells": [
  {
   "cell_type": "code",
   "execution_count": 1,
   "metadata": {},
   "outputs": [],
   "source": [
    "import torch\n",
    "import torch.nn as nn\n",
    "import torch.nn.functional as F\n",
    "import torch.optim as optim\n",
    "import torchvision.datasets as datasets\n",
    "import torchvision.transforms as transforms\n",
    "from torch.utils.data import DataLoader\n",
    "\n",
    "from tqdm import tqdm"
   ]
  },
  {
   "cell_type": "markdown",
   "metadata": {},
   "source": [
    "import images and make dataloader"
   ]
  },
  {
   "cell_type": "code",
   "execution_count": 2,
   "metadata": {},
   "outputs": [],
   "source": [
    "train_dataset = datasets.MNIST(root=\"dataset/\", train=True, transform=transforms.ToTensor(), download=True)\n",
    "train_loader = DataLoader(dataset=train_dataset, batch_size=64, shuffle=True)\n",
    "test_dataset = datasets.MNIST(root=\"dataset/\", transform=transforms.ToTensor(), download=True)\n",
    "test_loader = DataLoader(dataset=test_dataset, batch_size=16, shuffle=True)"
   ]
  },
  {
   "cell_type": "code",
   "execution_count": 3,
   "metadata": {},
   "outputs": [],
   "source": [
    "class PatchEmbedding(nn.Module):\n",
    "    def __init__(self, in_channels=1, embed_dim=768, patch_size=4):\n",
    "        super(PatchEmbedding, self).__init__()\n",
    "        self.embed_dim=embed_dim\n",
    "        self.proj = nn.Conv2d(in_channels, embed_dim, kernel_size=patch_size, stride=patch_size)\n",
    "    \n",
    "    def forward(self, x):\n",
    "        x = self.proj(x)  # (B, embed_dim, H/patch_size, W/patch_size)\n",
    "        x = x.permute(0, 2, 3, 1)  # (B, H/patch_size, W/patch_size, embed_dim)\n",
    "        B = x.shape[0]\n",
    "        x = x.reshape([B, -1, self.embed_dim])\n",
    "        return x\n",
    "    \n",
    "\n",
    "class PatchMaker(nn.Module):\n",
    "    def __init__(self, patch_size=4):   # d_model= 768\n",
    "        super().__init__()\n",
    "        self.x_axis=patch_size[0]\n",
    "        self.y_axis=patch_size[1]\n",
    "        self.embeddings=PatchEmbedding()\n",
    "        self.linear=nn.Linear(self.x_axis*self.y_axis, 768, bias=False)     #add channels\n",
    "\n",
    "    def forward(self, images):\n",
    "        # [batch_size, channels, x_axis, y_axis] -> [batch_size, patches, channels, patchsize_x, patchsize_y]\n",
    "        assert(images.shape[-1]%self.x_axis==0 and images.shape[-2]%self.y_axis==0),\"image dimentions aren't divisible by patch size\"\n",
    "        channels=images.shape[1]\n",
    "        batch_size=images.shape[0]\n",
    "        patches = images.view([batch_size, channels, -1, self.x_axis, self.y_axis]).transpose(-3,-4)\n",
    "        #patches = images.unfold(1, self.y_axis, self.y_axis).unfold(2, self.x_axis, self.x_axis)\n",
    "        #patches = patches.contiguous().view(batch_size, channels, -1, self.x_axis, self.y_axis)  #[batch_Size,channels,patchs,x,y]\n",
    "        num_patches=patches.shape[-4]\n",
    "        #patches = patches.permute(0, 2, 1, 3, 4)   #[batch_size,patches,channels,x,y]\n",
    "        flattened_patches = patches.view([batch_size, num_patches, channels, -1])  # flattened\n",
    "        output=self.linear(flattened_patches)\n",
    "        \n",
    "        return output"
   ]
  },
  {
   "cell_type": "code",
   "execution_count": 4,
   "metadata": {},
   "outputs": [],
   "source": [
    "#20, 20, 3 -> 4x 10,10,3 ->4X 1,100*3 nn.Linear()->"
   ]
  },
  {
   "cell_type": "code",
   "execution_count": 5,
   "metadata": {},
   "outputs": [],
   "source": [
    "class ViT(nn.Module):\n",
    "    def __init__(self, embed_dim=768, img_size=224, patch_size=16):\n",
    "        super().__init__()\n",
    "        self.num_patches=(img_size//patch_size)**2\n",
    "        self.embed_dim=embed_dim\n",
    "        self.patchemb=PatchEmbedding(embed_dim=embed_dim)\n",
    "        #self.patchmaker=PatchMaker()\n",
    "        self.pos_emb = nn.Parameter(torch.zeros(1, self.num_patches + 1, embed_dim))  #1 for class token\n",
    "        self.class_token=nn.Parameter(torch.zeros(1,1,embed_dim))   #emb_size=768\n",
    "        pass\n",
    "\n",
    "    def forward(self, x):\n",
    "        batch_size = x.shape[0]\n",
    "        x = self.patchemb(x)\n",
    "\n",
    "        #patches = self.patchmaker(x)\n",
    "\n",
    "        class_token = self.class_token.expand([batch_size, 1, self.embed_dim])\n",
    "        x = torch.cat((class_token, x), dim=1)\n",
    "\n",
    "        x = x+self.pos_emb\n",
    "        \n",
    "        return (x.shape, class_token.shape)\n",
    "        "
   ]
  },
  {
   "cell_type": "code",
   "execution_count": 6,
   "metadata": {},
   "outputs": [],
   "source": [
    "class VisionTransformer(nn.Module):\n",
    "    def __init__(self, img_size=28, patch_size=4, in_channels=1, num_classes=10, embed_dim=768, num_heads=12, num_layers=12, dropout=0.1):\n",
    "        super(VisionTransformer, self).__init__()\n",
    "        \n",
    "        self.img_size = img_size\n",
    "        self.patch_size = patch_size\n",
    "        self.num_patches = (img_size // patch_size) ** 2\n",
    "        \n",
    "        self.patch_embeddings = nn.Conv2d(in_channels, embed_dim, kernel_size=patch_size, stride=patch_size)\n",
    "        \n",
    "        self.position_embeddings = nn.Parameter(torch.zeros(1, self.num_patches + 1, embed_dim))  # +1 for class token\n",
    "        self.class_token = nn.Parameter(torch.zeros(1, 1, embed_dim))\n",
    "        \n",
    "        self.dropout = nn.Dropout(dropout)\n",
    "        \n",
    "        self.transformer_layers = nn.ModuleList([\n",
    "            nn.TransformerEncoderLayer(embed_dim, num_heads, dropout=dropout)\n",
    "            for _ in range(num_layers)\n",
    "        ])\n",
    "        \n",
    "        self.fc = nn.Linear(embed_dim, num_classes)\n",
    "\n",
    "    def forward(self, x):\n",
    "        batch_size = x.size(0)\n",
    "\n",
    "        # Create patches and embed\n",
    "        x = self.patch_embeddings(x)  # Shape: (batch_size, embed_dim, num_patches_height, num_patches_width)\n",
    "        x = x.flatten(2).transpose(1, 2)  # Shape: (batch_size, num_patches, embed_dim)\n",
    "\n",
    "        # Add class token\n",
    "        class_token = self.class_token.expand(batch_size, -1, -1)  # Shape: (batch_size, 1, embed_dim)\n",
    "        x = torch.cat((class_token, x), dim=1)  # Shape: (batch_size, num_patches + 1, embed_dim)\n",
    "\n",
    "        # Add position embeddings\n",
    "        x += self.position_embeddings\n",
    "        x = self.dropout(x)\n",
    "\n",
    "        # Pass through transformer layers\n",
    "        for layer in self.transformer_layers:\n",
    "            x = layer(x)\n",
    "\n",
    "        # Use the class token's output for classification\n",
    "        x = x[:, 0]  # Shape: (batch_size, embed_dim)\n",
    "        x = self.fc(x)\n",
    "        return x\n"
   ]
  },
  {
   "cell_type": "code",
   "execution_count": 7,
   "metadata": {},
   "outputs": [],
   "source": [
    "device = torch.device(\"cuda\" if torch.cuda.is_available() else \"cpu\")"
   ]
  },
  {
   "cell_type": "code",
   "execution_count": 8,
   "metadata": {},
   "outputs": [
    {
     "data": {
      "text/plain": [
       "VisionTransformer(\n",
       "  (patch_embeddings): Conv2d(1, 768, kernel_size=(4, 4), stride=(4, 4))\n",
       "  (dropout): Dropout(p=0.1, inplace=False)\n",
       "  (transformer_layers): ModuleList(\n",
       "    (0-11): 12 x TransformerEncoderLayer(\n",
       "      (self_attn): MultiheadAttention(\n",
       "        (out_proj): NonDynamicallyQuantizableLinear(in_features=768, out_features=768, bias=True)\n",
       "      )\n",
       "      (linear1): Linear(in_features=768, out_features=2048, bias=True)\n",
       "      (dropout): Dropout(p=0.1, inplace=False)\n",
       "      (linear2): Linear(in_features=2048, out_features=768, bias=True)\n",
       "      (norm1): LayerNorm((768,), eps=1e-05, elementwise_affine=True)\n",
       "      (norm2): LayerNorm((768,), eps=1e-05, elementwise_affine=True)\n",
       "      (dropout1): Dropout(p=0.1, inplace=False)\n",
       "      (dropout2): Dropout(p=0.1, inplace=False)\n",
       "    )\n",
       "  )\n",
       "  (fc): Linear(in_features=768, out_features=10, bias=True)\n",
       ")"
      ]
     },
     "execution_count": 8,
     "metadata": {},
     "output_type": "execute_result"
    }
   ],
   "source": [
    "model = VisionTransformer()\n",
    "model.to(device)\n"
   ]
  },
  {
   "cell_type": "code",
   "execution_count": 9,
   "metadata": {},
   "outputs": [],
   "source": [
    "criterion=nn.CrossEntropyLoss()\n",
    "optimizer=optim.Adam(model.parameters(), lr=0.001)"
   ]
  },
  {
   "cell_type": "code",
   "execution_count": 10,
   "metadata": {},
   "outputs": [
    {
     "name": "stderr",
     "output_type": "stream",
     "text": [
      "  0%|          | 0/938 [00:00<?, ?it/s]d:\\project\\myenv\\Lib\\site-packages\\torch\\nn\\functional.py:5504: UserWarning: 1Torch was not compiled with flash attention. (Triggered internally at ..\\aten\\src\\ATen\\native\\transformers\\cuda\\sdp_utils.cpp:455.)\n",
      "  attn_output = scaled_dot_product_attention(q, k, v, attn_mask, dropout_p, is_causal)\n",
      "  0%|          | 3/938 [00:04<21:16,  1.37s/it]"
     ]
    }
   ],
   "source": [
    "num_epochs = 10\n",
    "\n",
    "for epoch in range(num_epochs):\n",
    "  model.train()\n",
    "  # Training loop\n",
    "  for images, labels in tqdm(train_loader):\n",
    "\n",
    "    images, labels = images.to(device), labels.to(device)\n",
    "\n",
    "    # Forward pass\n",
    "    outputs = model(images)\n",
    "    loss = criterion(outputs, labels)\n",
    "\n",
    "    # Backward and optimize\n",
    "    optimizer.zero_grad()\n",
    "    loss.backward()\n",
    "    optimizer.step()\n",
    "\n",
    "  # Calculate accuracy\n",
    "  model.eval()\n",
    "  correct = 0\n",
    "  total = 0\n",
    "  with torch.no_grad():\n",
    "    for images, labels in train_loader:\n",
    "      images, labels = images.to(device), labels.to(device)\n",
    "      outputs = model(images)\n",
    "      _, predicted = torch.max(outputs.data, 1)\n",
    "      total += labels.size(0)\n",
    "      correct += (predicted == labels).sum().item()\n",
    "\n",
    "  accuracy = 100 * correct / total\n",
    "  print(f'Epoch: {epoch+1}/{num_epochs}, Accuracy: {accuracy:.2f}%')"
   ]
  },
  {
   "cell_type": "code",
   "execution_count": null,
   "metadata": {},
   "outputs": [],
   "source": []
  }
 ],
 "metadata": {
  "kernelspec": {
   "display_name": "myenv",
   "language": "python",
   "name": "python3"
  },
  "language_info": {
   "codemirror_mode": {
    "name": "ipython",
    "version": 3
   },
   "file_extension": ".py",
   "mimetype": "text/x-python",
   "name": "python",
   "nbconvert_exporter": "python",
   "pygments_lexer": "ipython3",
   "version": "3.11.9"
  }
 },
 "nbformat": 4,
 "nbformat_minor": 2
}
